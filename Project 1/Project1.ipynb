{
 "cells": [
  {
   "cell_type": "code",
   "execution_count": 1,
   "id": "56560d01",
   "metadata": {},
   "outputs": [],
   "source": [
    "# Question 1 :"
   ]
  },
  {
   "cell_type": "code",
   "execution_count": 2,
   "id": "de3a6715",
   "metadata": {},
   "outputs": [],
   "source": [
    "# a:"
   ]
  },
  {
   "cell_type": "code",
   "execution_count": 3,
   "id": "5d23daf0",
   "metadata": {},
   "outputs": [
    {
     "name": "stdout",
     "output_type": "stream",
     "text": [
      "Runtime using decorator : 1.7991 secs\n"
     ]
    }
   ],
   "source": [
    "import functools\n",
    "import time\n",
    "\n",
    "def timer(func):\n",
    "    @functools.wraps(func)\n",
    "    def wrapper_timer(*args, **kwargs):\n",
    "            \n",
    "        start_time = time.perf_counter() \n",
    "            \n",
    "        value = func(*args, **kwargs)\n",
    "\n",
    "        end_time = time.perf_counter() \n",
    "        \n",
    "        run_time = end_time - start_time \n",
    "        print(f\"Runtime using decorator : {run_time:.4f} secs\")\n",
    "        \n",
    "        return value\n",
    "    return wrapper_timer\n",
    "\n",
    "@timer\n",
    "def waste_some_time(num_times):\n",
    "    for _ in range(num_times):\n",
    "        sum([i**2 for i in range(10000)])\n",
    "\n",
    "waste_some_time(500)\n"
   ]
  },
  {
   "cell_type": "code",
   "execution_count": 4,
   "id": "532dd9d6",
   "metadata": {},
   "outputs": [],
   "source": [
    "# b :"
   ]
  },
  {
   "cell_type": "code",
   "execution_count": 5,
   "id": "fb916c75",
   "metadata": {},
   "outputs": [
    {
     "name": "stdout",
     "output_type": "stream",
     "text": [
      "Runtime using timeit : 1.8847 seconds\n"
     ]
    }
   ],
   "source": [
    "import timeit\n",
    "\n",
    "def waste_some_time(num_times):\n",
    "    for _ in range(num_times):\n",
    "        sum([i**2 for i in range(10000)])\n",
    "\n",
    "t = timeit.timeit(lambda: waste_some_time(500), number=1)\n",
    "\n",
    "print(f\"Runtime using timeit : {t:.4f} seconds\")\n"
   ]
  },
  {
   "cell_type": "code",
   "execution_count": null,
   "id": "f1d5b96b",
   "metadata": {
    "scrolled": true
   },
   "outputs": [],
   "source": [
    "# c :\n",
    "\n",
    "\"\"\"\n",
    "Yes, there is difference between them , timeit is more accurate ,\n",
    "so for more precise and relibile timing information the 'timeit' module is the best choice , \n",
    "but the decorator is more simpler and flexible for timing the code , also good for debugging. \n",
    "\"\"\"\n",
    "\n",
    "# End of Q1."
   ]
  },
  {
   "cell_type": "code",
   "execution_count": null,
   "id": "62445f11",
   "metadata": {},
   "outputs": [],
   "source": [
    "# Question 2:"
   ]
  },
  {
   "cell_type": "code",
   "execution_count": null,
   "id": "7f6cdaea",
   "metadata": {},
   "outputs": [],
   "source": [
    "# a:\n",
    "\n",
    "\"\"\"\n",
    "They both belong to the class < they can be called either on the class or on an instance , but the instance is ignored >,\n",
    "the 'class method' has access to the class itself <through 'cls'>, so it can modify the state of the class or access\n",
    "class-level data that is shared among all instances of the class, whereas the 'static method' does not have access to the\n",
    "instance or the class itself, so it can neither modify the state of the class or its instances, nor can it access any \n",
    "instance-specific attributes or methods.\n",
    "\"\"\""
   ]
  },
  {
   "cell_type": "code",
   "execution_count": null,
   "id": "3d61a227",
   "metadata": {},
   "outputs": [],
   "source": [
    "# b:"
   ]
  },
  {
   "cell_type": "code",
   "execution_count": 6,
   "id": "ecf59805",
   "metadata": {},
   "outputs": [],
   "source": [
    "class Person:\n",
    "    population = 0\n",
    "\n",
    "    def __init__(self, name):\n",
    "        self.name = name\n",
    "        Person.population += 1\n",
    "    \n",
    "    # the instance method : \n",
    "    def say_hello(self):\n",
    "        print(f\"Hello, my name is {self.name}.\")\n",
    "\n",
    "    # the class method : \n",
    "    @classmethod\n",
    "    def get_population(cls):\n",
    "        return cls.population\n",
    "    \n",
    "    # the static method : \n",
    "    @staticmethod\n",
    "    def get_current_year():\n",
    "        return 2023\n"
   ]
  },
  {
   "cell_type": "code",
   "execution_count": 7,
   "id": "d931fef4",
   "metadata": {},
   "outputs": [],
   "source": [
    "person1 = Person(\"Mohammad\")\n",
    "person2 = Person(\"Ahmad\")"
   ]
  },
  {
   "cell_type": "code",
   "execution_count": 8,
   "id": "0bdc11f1",
   "metadata": {
    "scrolled": true
   },
   "outputs": [
    {
     "name": "stdout",
     "output_type": "stream",
     "text": [
      "Hello, my name is Mohammad.\n"
     ]
    }
   ],
   "source": [
    "# calling the instance method: \n",
    "\n",
    "person1.say_hello()"
   ]
  },
  {
   "cell_type": "code",
   "execution_count": 9,
   "id": "c095b7c7",
   "metadata": {},
   "outputs": [
    {
     "name": "stdout",
     "output_type": "stream",
     "text": [
      "The current population is 2.\n"
     ]
    }
   ],
   "source": [
    "# calling the class method:\n",
    "\n",
    "population = Person.get_population()\n",
    "print(f\"The current population is {population}.\")\n",
    "\n",
    "# or we can use < person1.get_population() >"
   ]
  },
  {
   "cell_type": "code",
   "execution_count": 10,
   "id": "38364ee2",
   "metadata": {},
   "outputs": [
    {
     "name": "stdout",
     "output_type": "stream",
     "text": [
      "The current year is 2023.\n"
     ]
    }
   ],
   "source": [
    "# calling the static method:\n",
    "\n",
    "current_year = Person.get_current_year()\n",
    "print(f\"The current year is {current_year}.\")\n",
    "\n",
    "# or we can use < person1.get_current_year() >"
   ]
  },
  {
   "cell_type": "code",
   "execution_count": null,
   "id": "a885f94c",
   "metadata": {},
   "outputs": [],
   "source": [
    "# End of Q2."
   ]
  },
  {
   "cell_type": "code",
   "execution_count": null,
   "id": "e3df8df4",
   "metadata": {},
   "outputs": [],
   "source": [
    "# Question 3:"
   ]
  },
  {
   "cell_type": "code",
   "execution_count": null,
   "id": "c3a054a1",
   "metadata": {},
   "outputs": [],
   "source": [
    "# here is my solution using the dictionary :"
   ]
  },
  {
   "cell_type": "code",
   "execution_count": 11,
   "id": "bd6288f0",
   "metadata": {
    "scrolled": true
   },
   "outputs": [
    {
     "name": "stdout",
     "output_type": "stream",
     "text": [
      "e\n"
     ]
    }
   ],
   "source": [
    "def first_non_repeated_character(string):\n",
    "    \n",
    "    string = string.lower()\n",
    "\n",
    "    recurrences = {}\n",
    "    for char in string:\n",
    "        if char in recurrences:\n",
    "            recurrences[char] += 1\n",
    "        else:\n",
    "            recurrences[char] = 1\n",
    "\n",
    "    for char in string:\n",
    "        if recurrences[char] == 1:\n",
    "            return char\n",
    "        \n",
    "    return None\n",
    "\n",
    "print(first_non_repeated_character('Name naMag'))"
   ]
  },
  {
   "cell_type": "code",
   "execution_count": null,
   "id": "faca85dc",
   "metadata": {},
   "outputs": [],
   "source": [
    "\"\"\" \n",
    "after searching for modules that can help for this question, i found 'counter' class in the 'collections' module, so here is\n",
    "another solution using it \n",
    "\"\"\""
   ]
  },
  {
   "cell_type": "code",
   "execution_count": 12,
   "id": "bd926b89",
   "metadata": {},
   "outputs": [
    {
     "name": "stdout",
     "output_type": "stream",
     "text": [
      "e\n"
     ]
    }
   ],
   "source": [
    "from collections import Counter\n",
    "\n",
    "def first_non_repeated_character(string):\n",
    "    \n",
    "    string = string.lower()\n",
    "\n",
    "    char_counts = Counter(string)\n",
    "\n",
    "    for char in string:\n",
    "        if char_counts[char] == 1:\n",
    "            return char\n",
    "        \n",
    "    return None\n",
    "\n",
    "print(first_non_repeated_character('Name naMag'))"
   ]
  },
  {
   "cell_type": "code",
   "execution_count": null,
   "id": "eef8e0eb",
   "metadata": {},
   "outputs": [],
   "source": [
    "# End of Q3."
   ]
  }
 ],
 "metadata": {
  "kernelspec": {
   "display_name": "Python 3 (ipykernel)",
   "language": "python",
   "name": "python3"
  },
  "language_info": {
   "codemirror_mode": {
    "name": "ipython",
    "version": 3
   },
   "file_extension": ".py",
   "mimetype": "text/x-python",
   "name": "python",
   "nbconvert_exporter": "python",
   "pygments_lexer": "ipython3",
   "version": "3.10.9"
  }
 },
 "nbformat": 4,
 "nbformat_minor": 5
}
