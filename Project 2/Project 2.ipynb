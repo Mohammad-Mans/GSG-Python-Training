{
 "cells": [
  {
   "cell_type": "code",
   "execution_count": 1,
   "id": "ee59fc40",
   "metadata": {
    "scrolled": false
   },
   "outputs": [
    {
     "name": "stdout",
     "output_type": "stream",
     "text": [
      "Requirement already satisfied: pandas in c:\\users\\moham\\anaconda3\\lib\\site-packages (1.5.3)Note: you may need to restart the kernel to use updated packages.\n",
      "\n",
      "Requirement already satisfied: pytz>=2020.1 in c:\\users\\moham\\anaconda3\\lib\\site-packages (from pandas) (2022.7)\n",
      "Requirement already satisfied: numpy>=1.21.0 in c:\\users\\moham\\anaconda3\\lib\\site-packages (from pandas) (1.23.5)\n",
      "Requirement already satisfied: python-dateutil>=2.8.1 in c:\\users\\moham\\anaconda3\\lib\\site-packages (from pandas) (2.8.2)\n",
      "Requirement already satisfied: six>=1.5 in c:\\users\\moham\\anaconda3\\lib\\site-packages (from python-dateutil>=2.8.1->pandas) (1.16.0)\n"
     ]
    }
   ],
   "source": [
    "pip install pandas"
   ]
  },
  {
   "cell_type": "code",
   "execution_count": 2,
   "id": "1e548a7d",
   "metadata": {},
   "outputs": [
    {
     "name": "stdout",
     "output_type": "stream",
     "text": [
      "Requirement already satisfied: requests in c:\\users\\moham\\anaconda3\\lib\\site-packages (2.28.1)\n",
      "Requirement already satisfied: charset-normalizer<3,>=2 in c:\\users\\moham\\anaconda3\\lib\\site-packages (from requests) (2.0.4)\n",
      "Requirement already satisfied: idna<4,>=2.5 in c:\\users\\moham\\anaconda3\\lib\\site-packages (from requests) (3.4)\n",
      "Requirement already satisfied: urllib3<1.27,>=1.21.1 in c:\\users\\moham\\anaconda3\\lib\\site-packages (from requests) (1.26.14)\n",
      "Requirement already satisfied: certifi>=2017.4.17 in c:\\users\\moham\\anaconda3\\lib\\site-packages (from requests) (2022.12.7)\n",
      "Note: you may need to restart the kernel to use updated packages.\n"
     ]
    }
   ],
   "source": [
    "pip install requests"
   ]
  },
  {
   "cell_type": "code",
   "execution_count": 3,
   "id": "1103fe6e",
   "metadata": {},
   "outputs": [
    {
     "name": "stdout",
     "output_type": "stream",
     "text": [
      "download ready.\n"
     ]
    }
   ],
   "source": [
    "import requests\n",
    "download_url = \"https://covid.ourworldindata.org/data/owid-covid-data.csv\"\n",
    "target_csv_path = \"covid_data.csv\"\n",
    "\n",
    "response = requests.get(download_url)\n",
    "response.raise_for_status()\n",
    "with open(target_csv_path,\"wb\") as f:\n",
    "    f.write(response.content)\n",
    "\n",
    "print(\"download ready.\")"
   ]
  },
  {
   "cell_type": "code",
   "execution_count": 4,
   "id": "32566ecb",
   "metadata": {},
   "outputs": [],
   "source": [
    "import pandas as pd"
   ]
  },
  {
   "cell_type": "code",
   "execution_count": 5,
   "id": "5d0616f1",
   "metadata": {
    "scrolled": false
   },
   "outputs": [],
   "source": [
    "df = pd.read_csv(\"covid_data.csv\", low_memory=False)"
   ]
  },
  {
   "cell_type": "code",
   "execution_count": 6,
   "id": "e13e957e",
   "metadata": {},
   "outputs": [],
   "source": [
    "#-------------------------------------------------{1}-------------------------------------------------"
   ]
  },
  {
   "cell_type": "code",
   "execution_count": 7,
   "id": "4414e266",
   "metadata": {},
   "outputs": [
    {
     "name": "stdout",
     "output_type": "stream",
     "text": [
      "Number of rows : 311364\n",
      "Number of columns : 67\n"
     ]
    }
   ],
   "source": [
    "print(f\"Number of rows : {df.shape[0]}\")\n",
    "print(f\"Number of columns : {df.shape[1]}\")"
   ]
  },
  {
   "cell_type": "code",
   "execution_count": 8,
   "id": "7a93cf32",
   "metadata": {},
   "outputs": [],
   "source": [
    "#-------------------------------------------------{2}-------------------------------------------------"
   ]
  },
  {
   "cell_type": "code",
   "execution_count": 9,
   "id": "d2362357",
   "metadata": {},
   "outputs": [
    {
     "name": "stdout",
     "output_type": "stream",
     "text": [
      "  iso_code continent     location        date  total_cases  new_cases  \\\n",
      "0      AFG      Asia  Afghanistan  2020-01-03          NaN        0.0   \n",
      "1      AFG      Asia  Afghanistan  2020-01-04          NaN        0.0   \n",
      "2      AFG      Asia  Afghanistan  2020-01-05          NaN        0.0   \n",
      "3      AFG      Asia  Afghanistan  2020-01-06          NaN        0.0   \n",
      "4      AFG      Asia  Afghanistan  2020-01-07          NaN        0.0   \n",
      "5      AFG      Asia  Afghanistan  2020-01-08          NaN        0.0   \n",
      "6      AFG      Asia  Afghanistan  2020-01-09          NaN        0.0   \n",
      "7      AFG      Asia  Afghanistan  2020-01-10          NaN        0.0   \n",
      "8      AFG      Asia  Afghanistan  2020-01-11          NaN        0.0   \n",
      "9      AFG      Asia  Afghanistan  2020-01-12          NaN        0.0   \n",
      "\n",
      "   new_cases_smoothed  total_deaths  new_deaths  new_deaths_smoothed  ...  \\\n",
      "0                 NaN           NaN         0.0                  NaN  ...   \n",
      "1                 NaN           NaN         0.0                  NaN  ...   \n",
      "2                 NaN           NaN         0.0                  NaN  ...   \n",
      "3                 NaN           NaN         0.0                  NaN  ...   \n",
      "4                 NaN           NaN         0.0                  NaN  ...   \n",
      "5                 0.0           NaN         0.0                  0.0  ...   \n",
      "6                 0.0           NaN         0.0                  0.0  ...   \n",
      "7                 0.0           NaN         0.0                  0.0  ...   \n",
      "8                 0.0           NaN         0.0                  0.0  ...   \n",
      "9                 0.0           NaN         0.0                  0.0  ...   \n",
      "\n",
      "   male_smokers  handwashing_facilities  hospital_beds_per_thousand  \\\n",
      "0           NaN                  37.746                         0.5   \n",
      "1           NaN                  37.746                         0.5   \n",
      "2           NaN                  37.746                         0.5   \n",
      "3           NaN                  37.746                         0.5   \n",
      "4           NaN                  37.746                         0.5   \n",
      "5           NaN                  37.746                         0.5   \n",
      "6           NaN                  37.746                         0.5   \n",
      "7           NaN                  37.746                         0.5   \n",
      "8           NaN                  37.746                         0.5   \n",
      "9           NaN                  37.746                         0.5   \n",
      "\n",
      "   life_expectancy  human_development_index  population  \\\n",
      "0            64.83                    0.511  41128772.0   \n",
      "1            64.83                    0.511  41128772.0   \n",
      "2            64.83                    0.511  41128772.0   \n",
      "3            64.83                    0.511  41128772.0   \n",
      "4            64.83                    0.511  41128772.0   \n",
      "5            64.83                    0.511  41128772.0   \n",
      "6            64.83                    0.511  41128772.0   \n",
      "7            64.83                    0.511  41128772.0   \n",
      "8            64.83                    0.511  41128772.0   \n",
      "9            64.83                    0.511  41128772.0   \n",
      "\n",
      "   excess_mortality_cumulative_absolute  excess_mortality_cumulative  \\\n",
      "0                                   NaN                          NaN   \n",
      "1                                   NaN                          NaN   \n",
      "2                                   NaN                          NaN   \n",
      "3                                   NaN                          NaN   \n",
      "4                                   NaN                          NaN   \n",
      "5                                   NaN                          NaN   \n",
      "6                                   NaN                          NaN   \n",
      "7                                   NaN                          NaN   \n",
      "8                                   NaN                          NaN   \n",
      "9                                   NaN                          NaN   \n",
      "\n",
      "   excess_mortality  excess_mortality_cumulative_per_million  \n",
      "0               NaN                                      NaN  \n",
      "1               NaN                                      NaN  \n",
      "2               NaN                                      NaN  \n",
      "3               NaN                                      NaN  \n",
      "4               NaN                                      NaN  \n",
      "5               NaN                                      NaN  \n",
      "6               NaN                                      NaN  \n",
      "7               NaN                                      NaN  \n",
      "8               NaN                                      NaN  \n",
      "9               NaN                                      NaN  \n",
      "\n",
      "[10 rows x 67 columns]\n"
     ]
    }
   ],
   "source": [
    "# View the first 10 rows\n",
    "print(df.head(10))"
   ]
  },
  {
   "cell_type": "code",
   "execution_count": 10,
   "id": "e1ffd7ec",
   "metadata": {
    "scrolled": false
   },
   "outputs": [
    {
     "name": "stdout",
     "output_type": "stream",
     "text": [
      "       iso_code continent  location        date  total_cases  new_cases  \\\n",
      "311359      ZWE    Africa  Zimbabwe  2023-05-13     264821.0        5.0   \n",
      "311360      ZWE    Africa  Zimbabwe  2023-05-14     264841.0       20.0   \n",
      "311361      ZWE    Africa  Zimbabwe  2023-05-15     264848.0        7.0   \n",
      "311362      ZWE    Africa  Zimbabwe  2023-05-16     264848.0        0.0   \n",
      "311363      ZWE    Africa  Zimbabwe  2023-05-17     264848.0        0.0   \n",
      "\n",
      "        new_cases_smoothed  total_deaths  new_deaths  new_deaths_smoothed  \\\n",
      "311359              10.286        5690.0         1.0                0.429   \n",
      "311360              10.714        5690.0         0.0                0.429   \n",
      "311361              10.286        5690.0         0.0                0.286   \n",
      "311362               9.429        5690.0         0.0                0.286   \n",
      "311363               8.143        5690.0         0.0                0.143   \n",
      "\n",
      "        ...  male_smokers  handwashing_facilities  hospital_beds_per_thousand  \\\n",
      "311359  ...          30.7                  36.791                         1.7   \n",
      "311360  ...          30.7                  36.791                         1.7   \n",
      "311361  ...          30.7                  36.791                         1.7   \n",
      "311362  ...          30.7                  36.791                         1.7   \n",
      "311363  ...          30.7                  36.791                         1.7   \n",
      "\n",
      "        life_expectancy  human_development_index  population  \\\n",
      "311359            61.49                    0.571  16320539.0   \n",
      "311360            61.49                    0.571  16320539.0   \n",
      "311361            61.49                    0.571  16320539.0   \n",
      "311362            61.49                    0.571  16320539.0   \n",
      "311363            61.49                    0.571  16320539.0   \n",
      "\n",
      "        excess_mortality_cumulative_absolute  excess_mortality_cumulative  \\\n",
      "311359                                   NaN                          NaN   \n",
      "311360                                   NaN                          NaN   \n",
      "311361                                   NaN                          NaN   \n",
      "311362                                   NaN                          NaN   \n",
      "311363                                   NaN                          NaN   \n",
      "\n",
      "        excess_mortality  excess_mortality_cumulative_per_million  \n",
      "311359               NaN                                      NaN  \n",
      "311360               NaN                                      NaN  \n",
      "311361               NaN                                      NaN  \n",
      "311362               NaN                                      NaN  \n",
      "311363               NaN                                      NaN  \n",
      "\n",
      "[5 rows x 67 columns]\n"
     ]
    }
   ],
   "source": [
    "# View the last 5 rows\n",
    "print(df.tail(5))"
   ]
  },
  {
   "cell_type": "code",
   "execution_count": 11,
   "id": "6bb02b39",
   "metadata": {},
   "outputs": [],
   "source": [
    "#-------------------------------------------------{3}-------------------------------------------------"
   ]
  },
  {
   "cell_type": "code",
   "execution_count": 12,
   "id": "4d718cf4",
   "metadata": {
    "scrolled": true
   },
   "outputs": [
    {
     "name": "stdout",
     "output_type": "stream",
     "text": [
      "        total_cases     new_cases  new_cases_smoothed  total_deaths  \\\n",
      "count  2.753350e+05  3.026550e+05        3.013910e+05  2.546350e+05   \n",
      "mean   5.767156e+06  1.073397e+04        1.077678e+04  8.061661e+04   \n",
      "std    3.600088e+07  1.030085e+05        1.002455e+05  4.164645e+05   \n",
      "min    1.000000e+00  0.000000e+00        0.000000e+00  1.000000e+00   \n",
      "25%    6.565000e+03  0.000000e+00        1.143000e+00  1.210000e+02   \n",
      "50%    6.239700e+04  1.700000e+01        3.771400e+01  1.230000e+03   \n",
      "75%    6.419815e+05  5.230000e+02        6.310000e+02  1.064800e+04   \n",
      "max    7.664400e+08  7.460822e+06        6.410667e+06  6.932578e+06   \n",
      "\n",
      "          new_deaths  new_deaths_smoothed  total_cases_per_million  \\\n",
      "count  302735.000000        301505.000000            275335.000000   \n",
      "mean       95.740952            96.103652             88010.375666   \n",
      "std       600.706338           591.334247            138439.520139   \n",
      "min         0.000000             0.000000                 0.000000   \n",
      "25%         0.000000             0.000000              2039.082000   \n",
      "50%         0.000000             0.286000             20898.389000   \n",
      "75%         6.000000             6.714000            107810.942500   \n",
      "max     20027.000000         14677.857000            737554.506000   \n",
      "\n",
      "       new_cases_per_million  new_cases_smoothed_per_million  \\\n",
      "count          302655.000000                   301391.000000   \n",
      "mean              161.890445                      162.525589   \n",
      "std              1127.171598                      634.547240   \n",
      "min                 0.000000                        0.000000   \n",
      "25%                 0.000000                        0.246000   \n",
      "50%                 2.396000                       10.664000   \n",
      "75%                68.501000                      103.445000   \n",
      "max            228872.025000                    37241.781000   \n",
      "\n",
      "       total_deaths_per_million  ...   male_smokers  handwashing_facilities  \\\n",
      "count             254635.000000  ...  178514.000000           118181.000000   \n",
      "mean                 811.194069  ...      32.909969               50.790203   \n",
      "std                 1053.772688  ...      13.574379               31.957386   \n",
      "min                    0.000000  ...       7.700000                1.188000   \n",
      "25%                   50.398500  ...      22.600000               20.859000   \n",
      "50%                  338.621000  ...      33.100000               49.839000   \n",
      "75%                 1246.603000  ...      41.300000               83.241000   \n",
      "max                 6476.319000  ...      78.100000              100.000000   \n",
      "\n",
      "       hospital_beds_per_thousand  life_expectancy  human_development_index  \\\n",
      "count               212982.000000    286343.000000            233878.000000   \n",
      "mean                     3.097160        73.717721                 0.722479   \n",
      "std                      2.548461         7.397216                 0.148990   \n",
      "min                      0.100000        53.280000                 0.394000   \n",
      "25%                      1.300000        69.590000                 0.602000   \n",
      "50%                      2.500000        75.050000                 0.740000   \n",
      "75%                      4.200000        79.460000                 0.829000   \n",
      "max                     13.800000        86.750000                 0.957000   \n",
      "\n",
      "         population  excess_mortality_cumulative_absolute  \\\n",
      "count  3.113640e+05                          1.066900e+04   \n",
      "mean   1.281154e+08                          4.739668e+04   \n",
      "std    6.596972e+08                          1.384241e+05   \n",
      "min    4.700000e+01                         -3.772610e+04   \n",
      "25%    4.490020e+05                          2.780000e+01   \n",
      "50%    5.882259e+06                          4.530999e+03   \n",
      "75%    2.830170e+07                          3.159700e+04   \n",
      "max    7.975105e+09                          1.282260e+06   \n",
      "\n",
      "       excess_mortality_cumulative  excess_mortality  \\\n",
      "count                 10669.000000      10669.000000   \n",
      "mean                      9.538903         12.633550   \n",
      "std                      12.914011         26.344219   \n",
      "min                     -44.230000        -95.920000   \n",
      "25%                       0.560000         -1.200000   \n",
      "50%                       7.750000          6.490000   \n",
      "75%                      15.360000         18.070000   \n",
      "max                      76.550000        377.300000   \n",
      "\n",
      "       excess_mortality_cumulative_per_million  \n",
      "count                             10669.000000  \n",
      "mean                               1477.149682  \n",
      "std                                1840.907839  \n",
      "min                               -1984.281600  \n",
      "25%                                  24.645111  \n",
      "50%                                 900.418500  \n",
      "75%                                2399.257000  \n",
      "max                               10291.122000  \n",
      "\n",
      "[8 rows x 62 columns]\n"
     ]
    }
   ],
   "source": [
    "# for count/min/max.. :\n",
    "print(df.describe())"
   ]
  },
  {
   "cell_type": "code",
   "execution_count": 13,
   "id": "56770da9",
   "metadata": {},
   "outputs": [
    {
     "data": {
      "text/html": [
       "<div>\n",
       "<style scoped>\n",
       "    .dataframe tbody tr th:only-of-type {\n",
       "        vertical-align: middle;\n",
       "    }\n",
       "\n",
       "    .dataframe tbody tr th {\n",
       "        vertical-align: top;\n",
       "    }\n",
       "\n",
       "    .dataframe thead th {\n",
       "        text-align: right;\n",
       "    }\n",
       "</style>\n",
       "<table border=\"1\" class=\"dataframe\">\n",
       "  <thead>\n",
       "    <tr style=\"text-align: right;\">\n",
       "      <th></th>\n",
       "      <th>iso_code</th>\n",
       "      <th>continent</th>\n",
       "      <th>location</th>\n",
       "      <th>date</th>\n",
       "      <th>tests_units</th>\n",
       "    </tr>\n",
       "  </thead>\n",
       "  <tbody>\n",
       "    <tr>\n",
       "      <th>count</th>\n",
       "      <td>311364</td>\n",
       "      <td>296584</td>\n",
       "      <td>311364</td>\n",
       "      <td>311364</td>\n",
       "      <td>106788</td>\n",
       "    </tr>\n",
       "    <tr>\n",
       "      <th>unique</th>\n",
       "      <td>255</td>\n",
       "      <td>6</td>\n",
       "      <td>255</td>\n",
       "      <td>1234</td>\n",
       "      <td>4</td>\n",
       "    </tr>\n",
       "    <tr>\n",
       "      <th>top</th>\n",
       "      <td>ARG</td>\n",
       "      <td>Africa</td>\n",
       "      <td>Argentina</td>\n",
       "      <td>2022-04-20</td>\n",
       "      <td>tests performed</td>\n",
       "    </tr>\n",
       "    <tr>\n",
       "      <th>freq</th>\n",
       "      <td>1234</td>\n",
       "      <td>70168</td>\n",
       "      <td>1234</td>\n",
       "      <td>255</td>\n",
       "      <td>80099</td>\n",
       "    </tr>\n",
       "  </tbody>\n",
       "</table>\n",
       "</div>"
      ],
      "text/plain": [
       "       iso_code continent   location        date      tests_units\n",
       "count    311364    296584     311364      311364           106788\n",
       "unique      255         6        255        1234                4\n",
       "top         ARG    Africa  Argentina  2022-04-20  tests performed\n",
       "freq       1234     70168       1234         255            80099"
      ]
     },
     "execution_count": 13,
     "metadata": {},
     "output_type": "execute_result"
    }
   ],
   "source": [
    "# for unique values:\n",
    "df.describe(include = object)"
   ]
  },
  {
   "cell_type": "code",
   "execution_count": 14,
   "id": "88152884",
   "metadata": {},
   "outputs": [],
   "source": [
    "#-------------------------------------------------{4}-------------------------------------------------"
   ]
  },
  {
   "cell_type": "code",
   "execution_count": 15,
   "id": "a7b45a4e",
   "metadata": {},
   "outputs": [
    {
     "data": {
      "text/plain": [
       "67"
      ]
     },
     "execution_count": 15,
     "metadata": {},
     "output_type": "execute_result"
    }
   ],
   "source": [
    "# number of columns before:\n",
    "df.shape[1]"
   ]
  },
  {
   "cell_type": "code",
   "execution_count": 16,
   "id": "0906ae71",
   "metadata": {},
   "outputs": [],
   "source": [
    "df.drop(['new_deaths_smoothed', 'new_cases_per_million', 'total_cases_per_million'], axis = 1 , inplace=True)"
   ]
  },
  {
   "cell_type": "code",
   "execution_count": 17,
   "id": "5b4d74d7",
   "metadata": {},
   "outputs": [
    {
     "data": {
      "text/plain": [
       "64"
      ]
     },
     "execution_count": 17,
     "metadata": {},
     "output_type": "execute_result"
    }
   ],
   "source": [
    "# number of columns after:\n",
    "df.shape[1]"
   ]
  },
  {
   "cell_type": "code",
   "execution_count": 18,
   "id": "0f2c46bf",
   "metadata": {},
   "outputs": [],
   "source": [
    "#-------------------------------------------------{5}-------------------------------------------------"
   ]
  },
  {
   "cell_type": "code",
   "execution_count": 19,
   "id": "7fd7130c",
   "metadata": {
    "scrolled": true
   },
   "outputs": [
    {
     "name": "stdout",
     "output_type": "stream",
     "text": [
      "<class 'pandas.core.frame.DataFrame'>\n",
      "RangeIndex: 311364 entries, 0 to 311363\n",
      "Data columns (total 64 columns):\n",
      " #   Column                                      Non-Null Count   Dtype  \n",
      "---  ------                                      --------------   -----  \n",
      " 0   iso_code                                    311364 non-null  object \n",
      " 1   continent                                   296584 non-null  object \n",
      " 2   location                                    311364 non-null  object \n",
      " 3   date                                        311364 non-null  object \n",
      " 4   total_cases                                 275335 non-null  float64\n",
      " 5   new_cases                                   302655 non-null  float64\n",
      " 6   new_cases_smoothed                          301391 non-null  float64\n",
      " 7   total_deaths                                254635 non-null  float64\n",
      " 8   new_deaths                                  302735 non-null  float64\n",
      " 9   new_cases_smoothed_per_million              301391 non-null  float64\n",
      " 10  total_deaths_per_million                    254635 non-null  float64\n",
      " 11  new_deaths_per_million                      302735 non-null  float64\n",
      " 12  new_deaths_smoothed_per_million             301505 non-null  float64\n",
      " 13  reproduction_rate                           184817 non-null  float64\n",
      " 14  icu_patients                                36030 non-null   float64\n",
      " 15  icu_patients_per_million                    36030 non-null   float64\n",
      " 16  hosp_patients                               36823 non-null   float64\n",
      " 17  hosp_patients_per_million                   36823 non-null   float64\n",
      " 18  weekly_icu_admissions                       9452 non-null    float64\n",
      " 19  weekly_icu_admissions_per_million           9452 non-null    float64\n",
      " 20  weekly_hosp_admissions                      21888 non-null   float64\n",
      " 21  weekly_hosp_admissions_per_million          21888 non-null   float64\n",
      " 22  total_tests                                 79387 non-null   float64\n",
      " 23  new_tests                                   75403 non-null   float64\n",
      " 24  total_tests_per_thousand                    79387 non-null   float64\n",
      " 25  new_tests_per_thousand                      75403 non-null   float64\n",
      " 26  new_tests_smoothed                          103965 non-null  float64\n",
      " 27  new_tests_smoothed_per_thousand             103965 non-null  float64\n",
      " 28  positive_rate                               95927 non-null   float64\n",
      " 29  tests_per_case                              94348 non-null   float64\n",
      " 30  tests_units                                 106788 non-null  object \n",
      " 31  total_vaccinations                          74952 non-null   float64\n",
      " 32  people_vaccinated                           71802 non-null   float64\n",
      " 33  people_fully_vaccinated                     68318 non-null   float64\n",
      " 34  total_boosters                              43583 non-null   float64\n",
      " 35  new_vaccinations                            61685 non-null   float64\n",
      " 36  new_vaccinations_smoothed                   167733 non-null  float64\n",
      " 37  total_vaccinations_per_hundred              74952 non-null   float64\n",
      " 38  people_vaccinated_per_hundred               71802 non-null   float64\n",
      " 39  people_fully_vaccinated_per_hundred         68318 non-null   float64\n",
      " 40  total_boosters_per_hundred                  43583 non-null   float64\n",
      " 41  new_vaccinations_smoothed_per_million       167733 non-null  float64\n",
      " 42  new_people_vaccinated_smoothed              167798 non-null  float64\n",
      " 43  new_people_vaccinated_smoothed_per_hundred  167798 non-null  float64\n",
      " 44  stringency_index                            197650 non-null  float64\n",
      " 45  population_density                          264217 non-null  float64\n",
      " 46  median_age                                  245720 non-null  float64\n",
      " 47  aged_65_older                               237135 non-null  float64\n",
      " 48  aged_70_older                               243257 non-null  float64\n",
      " 49  gdp_per_capita                              240828 non-null  float64\n",
      " 50  extreme_poverty                             155123 non-null  float64\n",
      " 51  cardiovasc_death_rate                       241262 non-null  float64\n",
      " 52  diabetes_prevalence                         253574 non-null  float64\n",
      " 53  female_smokers                              180976 non-null  float64\n",
      " 54  male_smokers                                178514 non-null  float64\n",
      " 55  handwashing_facilities                      118181 non-null  float64\n",
      " 56  hospital_beds_per_thousand                  212982 non-null  float64\n",
      " 57  life_expectancy                             286343 non-null  float64\n",
      " 58  human_development_index                     233878 non-null  float64\n",
      " 59  population                                  311364 non-null  float64\n",
      " 60  excess_mortality_cumulative_absolute        10669 non-null   float64\n",
      " 61  excess_mortality_cumulative                 10669 non-null   float64\n",
      " 62  excess_mortality                            10669 non-null   float64\n",
      " 63  excess_mortality_cumulative_per_million     10669 non-null   float64\n",
      "dtypes: float64(59), object(5)\n",
      "memory usage: 152.0+ MB\n"
     ]
    }
   ],
   "source": [
    "#before:\n",
    "df.info()"
   ]
  },
  {
   "cell_type": "code",
   "execution_count": 20,
   "id": "a2ec90e1",
   "metadata": {},
   "outputs": [],
   "source": [
    "df = df.rename(columns={'date': 'Date', 'location': 'Country', 'continent': 'Continent', 'iso_code': 'ISO_code'})"
   ]
  },
  {
   "cell_type": "code",
   "execution_count": 21,
   "id": "fba955c1",
   "metadata": {},
   "outputs": [
    {
     "name": "stdout",
     "output_type": "stream",
     "text": [
      "<class 'pandas.core.frame.DataFrame'>\n",
      "RangeIndex: 311364 entries, 0 to 311363\n",
      "Data columns (total 64 columns):\n",
      " #   Column                                      Non-Null Count   Dtype  \n",
      "---  ------                                      --------------   -----  \n",
      " 0   ISO_code                                    311364 non-null  object \n",
      " 1   Continent                                   296584 non-null  object \n",
      " 2   Country                                     311364 non-null  object \n",
      " 3   Date                                        311364 non-null  object \n",
      " 4   total_cases                                 275335 non-null  float64\n",
      " 5   new_cases                                   302655 non-null  float64\n",
      " 6   new_cases_smoothed                          301391 non-null  float64\n",
      " 7   total_deaths                                254635 non-null  float64\n",
      " 8   new_deaths                                  302735 non-null  float64\n",
      " 9   new_cases_smoothed_per_million              301391 non-null  float64\n",
      " 10  total_deaths_per_million                    254635 non-null  float64\n",
      " 11  new_deaths_per_million                      302735 non-null  float64\n",
      " 12  new_deaths_smoothed_per_million             301505 non-null  float64\n",
      " 13  reproduction_rate                           184817 non-null  float64\n",
      " 14  icu_patients                                36030 non-null   float64\n",
      " 15  icu_patients_per_million                    36030 non-null   float64\n",
      " 16  hosp_patients                               36823 non-null   float64\n",
      " 17  hosp_patients_per_million                   36823 non-null   float64\n",
      " 18  weekly_icu_admissions                       9452 non-null    float64\n",
      " 19  weekly_icu_admissions_per_million           9452 non-null    float64\n",
      " 20  weekly_hosp_admissions                      21888 non-null   float64\n",
      " 21  weekly_hosp_admissions_per_million          21888 non-null   float64\n",
      " 22  total_tests                                 79387 non-null   float64\n",
      " 23  new_tests                                   75403 non-null   float64\n",
      " 24  total_tests_per_thousand                    79387 non-null   float64\n",
      " 25  new_tests_per_thousand                      75403 non-null   float64\n",
      " 26  new_tests_smoothed                          103965 non-null  float64\n",
      " 27  new_tests_smoothed_per_thousand             103965 non-null  float64\n",
      " 28  positive_rate                               95927 non-null   float64\n",
      " 29  tests_per_case                              94348 non-null   float64\n",
      " 30  tests_units                                 106788 non-null  object \n",
      " 31  total_vaccinations                          74952 non-null   float64\n",
      " 32  people_vaccinated                           71802 non-null   float64\n",
      " 33  people_fully_vaccinated                     68318 non-null   float64\n",
      " 34  total_boosters                              43583 non-null   float64\n",
      " 35  new_vaccinations                            61685 non-null   float64\n",
      " 36  new_vaccinations_smoothed                   167733 non-null  float64\n",
      " 37  total_vaccinations_per_hundred              74952 non-null   float64\n",
      " 38  people_vaccinated_per_hundred               71802 non-null   float64\n",
      " 39  people_fully_vaccinated_per_hundred         68318 non-null   float64\n",
      " 40  total_boosters_per_hundred                  43583 non-null   float64\n",
      " 41  new_vaccinations_smoothed_per_million       167733 non-null  float64\n",
      " 42  new_people_vaccinated_smoothed              167798 non-null  float64\n",
      " 43  new_people_vaccinated_smoothed_per_hundred  167798 non-null  float64\n",
      " 44  stringency_index                            197650 non-null  float64\n",
      " 45  population_density                          264217 non-null  float64\n",
      " 46  median_age                                  245720 non-null  float64\n",
      " 47  aged_65_older                               237135 non-null  float64\n",
      " 48  aged_70_older                               243257 non-null  float64\n",
      " 49  gdp_per_capita                              240828 non-null  float64\n",
      " 50  extreme_poverty                             155123 non-null  float64\n",
      " 51  cardiovasc_death_rate                       241262 non-null  float64\n",
      " 52  diabetes_prevalence                         253574 non-null  float64\n",
      " 53  female_smokers                              180976 non-null  float64\n",
      " 54  male_smokers                                178514 non-null  float64\n",
      " 55  handwashing_facilities                      118181 non-null  float64\n",
      " 56  hospital_beds_per_thousand                  212982 non-null  float64\n",
      " 57  life_expectancy                             286343 non-null  float64\n",
      " 58  human_development_index                     233878 non-null  float64\n",
      " 59  population                                  311364 non-null  float64\n",
      " 60  excess_mortality_cumulative_absolute        10669 non-null   float64\n",
      " 61  excess_mortality_cumulative                 10669 non-null   float64\n",
      " 62  excess_mortality                            10669 non-null   float64\n",
      " 63  excess_mortality_cumulative_per_million     10669 non-null   float64\n",
      "dtypes: float64(59), object(5)\n",
      "memory usage: 152.0+ MB\n"
     ]
    }
   ],
   "source": [
    "#after:\n",
    "df.info()"
   ]
  },
  {
   "cell_type": "code",
   "execution_count": 22,
   "id": "2b6fb7c4",
   "metadata": {},
   "outputs": [],
   "source": [
    "#-------------------------------------------------{6}-------------------------------------------------"
   ]
  },
  {
   "cell_type": "code",
   "execution_count": 23,
   "id": "ddfefc0a",
   "metadata": {},
   "outputs": [
    {
     "name": "stdout",
     "output_type": "stream",
     "text": [
      "['Asia', nan, 'Europe', 'Africa', 'Oceania', 'North America', 'South America']\n"
     ]
    }
   ],
   "source": [
    "continent_list = df['Continent'].unique().tolist()\n",
    "print(continent_list)"
   ]
  },
  {
   "cell_type": "code",
   "execution_count": 24,
   "id": "2c914d98",
   "metadata": {},
   "outputs": [],
   "source": [
    "#-------------------------------------------------{7}-------------------------------------------------"
   ]
  },
  {
   "cell_type": "code",
   "execution_count": 25,
   "id": "74ae5326",
   "metadata": {},
   "outputs": [],
   "source": [
    "from sklearn.impute import SimpleImputer"
   ]
  },
  {
   "cell_type": "code",
   "execution_count": 26,
   "id": "51e8ad35",
   "metadata": {},
   "outputs": [],
   "source": [
    "imputer = SimpleImputer(strategy='constant')\n",
    "df2 = pd.DataFrame(imputer.fit_transform(df),columns=df.columns)"
   ]
  },
  {
   "cell_type": "code",
   "execution_count": 27,
   "id": "5cb40719",
   "metadata": {
    "scrolled": false
   },
   "outputs": [
    {
     "name": "stdout",
     "output_type": "stream",
     "text": [
      "       ISO_code Continent      Country        Date    total_cases new_cases  \\\n",
      "0           AFG      Asia  Afghanistan  2020-01-03  missing_value       0.0   \n",
      "1           AFG      Asia  Afghanistan  2020-01-04  missing_value       0.0   \n",
      "2           AFG      Asia  Afghanistan  2020-01-05  missing_value       0.0   \n",
      "3           AFG      Asia  Afghanistan  2020-01-06  missing_value       0.0   \n",
      "4           AFG      Asia  Afghanistan  2020-01-07  missing_value       0.0   \n",
      "...         ...       ...          ...         ...            ...       ...   \n",
      "311359      ZWE    Africa     Zimbabwe  2023-05-13       264821.0       5.0   \n",
      "311360      ZWE    Africa     Zimbabwe  2023-05-14       264841.0      20.0   \n",
      "311361      ZWE    Africa     Zimbabwe  2023-05-15       264848.0       7.0   \n",
      "311362      ZWE    Africa     Zimbabwe  2023-05-16       264848.0       0.0   \n",
      "311363      ZWE    Africa     Zimbabwe  2023-05-17       264848.0       0.0   \n",
      "\n",
      "       new_cases_smoothed   total_deaths new_deaths  \\\n",
      "0           missing_value  missing_value        0.0   \n",
      "1           missing_value  missing_value        0.0   \n",
      "2           missing_value  missing_value        0.0   \n",
      "3           missing_value  missing_value        0.0   \n",
      "4           missing_value  missing_value        0.0   \n",
      "...                   ...            ...        ...   \n",
      "311359             10.286         5690.0        1.0   \n",
      "311360             10.714         5690.0        0.0   \n",
      "311361             10.286         5690.0        0.0   \n",
      "311362              9.429         5690.0        0.0   \n",
      "311363              8.143         5690.0        0.0   \n",
      "\n",
      "       new_cases_smoothed_per_million  ...   male_smokers  \\\n",
      "0                       missing_value  ...  missing_value   \n",
      "1                       missing_value  ...  missing_value   \n",
      "2                       missing_value  ...  missing_value   \n",
      "3                       missing_value  ...  missing_value   \n",
      "4                       missing_value  ...  missing_value   \n",
      "...                               ...  ...            ...   \n",
      "311359                           0.63  ...           30.7   \n",
      "311360                          0.656  ...           30.7   \n",
      "311361                           0.63  ...           30.7   \n",
      "311362                          0.578  ...           30.7   \n",
      "311363                          0.499  ...           30.7   \n",
      "\n",
      "       handwashing_facilities hospital_beds_per_thousand life_expectancy  \\\n",
      "0                      37.746                        0.5           64.83   \n",
      "1                      37.746                        0.5           64.83   \n",
      "2                      37.746                        0.5           64.83   \n",
      "3                      37.746                        0.5           64.83   \n",
      "4                      37.746                        0.5           64.83   \n",
      "...                       ...                        ...             ...   \n",
      "311359                 36.791                        1.7           61.49   \n",
      "311360                 36.791                        1.7           61.49   \n",
      "311361                 36.791                        1.7           61.49   \n",
      "311362                 36.791                        1.7           61.49   \n",
      "311363                 36.791                        1.7           61.49   \n",
      "\n",
      "       human_development_index  population  \\\n",
      "0                        0.511  41128772.0   \n",
      "1                        0.511  41128772.0   \n",
      "2                        0.511  41128772.0   \n",
      "3                        0.511  41128772.0   \n",
      "4                        0.511  41128772.0   \n",
      "...                        ...         ...   \n",
      "311359                   0.571  16320539.0   \n",
      "311360                   0.571  16320539.0   \n",
      "311361                   0.571  16320539.0   \n",
      "311362                   0.571  16320539.0   \n",
      "311363                   0.571  16320539.0   \n",
      "\n",
      "       excess_mortality_cumulative_absolute excess_mortality_cumulative  \\\n",
      "0                             missing_value               missing_value   \n",
      "1                             missing_value               missing_value   \n",
      "2                             missing_value               missing_value   \n",
      "3                             missing_value               missing_value   \n",
      "4                             missing_value               missing_value   \n",
      "...                                     ...                         ...   \n",
      "311359                        missing_value               missing_value   \n",
      "311360                        missing_value               missing_value   \n",
      "311361                        missing_value               missing_value   \n",
      "311362                        missing_value               missing_value   \n",
      "311363                        missing_value               missing_value   \n",
      "\n",
      "       excess_mortality excess_mortality_cumulative_per_million  \n",
      "0         missing_value                           missing_value  \n",
      "1         missing_value                           missing_value  \n",
      "2         missing_value                           missing_value  \n",
      "3         missing_value                           missing_value  \n",
      "4         missing_value                           missing_value  \n",
      "...                 ...                                     ...  \n",
      "311359    missing_value                           missing_value  \n",
      "311360    missing_value                           missing_value  \n",
      "311361    missing_value                           missing_value  \n",
      "311362    missing_value                           missing_value  \n",
      "311363    missing_value                           missing_value  \n",
      "\n",
      "[311364 rows x 64 columns]\n"
     ]
    }
   ],
   "source": [
    "#here we can see that the 'NaN' values are replaced with 'missing_value'\n",
    "print(df2)"
   ]
  },
  {
   "cell_type": "code",
   "execution_count": 28,
   "id": "927ba55b",
   "metadata": {},
   "outputs": [],
   "source": [
    "#-------------------------------------------------{8}-------------------------------------------------"
   ]
  },
  {
   "cell_type": "code",
   "execution_count": 29,
   "id": "9e82ef54",
   "metadata": {},
   "outputs": [],
   "source": [
    "df3 = df2.groupby(['Date', 'Country'])[['total_cases', 'total_deaths', 'total_vaccinations']].sum().reset_index()"
   ]
  },
  {
   "cell_type": "code",
   "execution_count": 30,
   "id": "802c1e7e",
   "metadata": {},
   "outputs": [
    {
     "name": "stdout",
     "output_type": "stream",
     "text": [
      "              Date              Country    total_cases   total_deaths  \\\n",
      "0       2020-01-01            Argentina  missing_value  missing_value   \n",
      "1       2020-01-01               Mexico  missing_value  missing_value   \n",
      "2       2020-01-02            Argentina  missing_value  missing_value   \n",
      "3       2020-01-02               Mexico  missing_value  missing_value   \n",
      "4       2020-01-03          Afghanistan  missing_value  missing_value   \n",
      "...            ...                  ...            ...            ...   \n",
      "311359  2023-05-18        South America  missing_value  missing_value   \n",
      "311360  2023-05-18          South Korea  missing_value  missing_value   \n",
      "311361  2023-05-18  Upper middle income  missing_value  missing_value   \n",
      "311362  2023-05-18              Uruguay  missing_value  missing_value   \n",
      "311363  2023-05-18                World  missing_value  missing_value   \n",
      "\n",
      "       total_vaccinations  \n",
      "0           missing_value  \n",
      "1           missing_value  \n",
      "2           missing_value  \n",
      "3           missing_value  \n",
      "4           missing_value  \n",
      "...                   ...  \n",
      "311359        957020867.0  \n",
      "311360      missing_value  \n",
      "311361       5415545806.0  \n",
      "311362          9021046.0  \n",
      "311363      13381892700.0  \n",
      "\n",
      "[311364 rows x 5 columns]\n"
     ]
    }
   ],
   "source": [
    "print(df3)"
   ]
  },
  {
   "cell_type": "code",
   "execution_count": null,
   "id": "718d896a",
   "metadata": {},
   "outputs": [],
   "source": [
    "\"\"\"\n",
    "when we perform a 'groupby()' operation on df2 based on 'Date' and 'Country', and store the result in df3\n",
    "The values in the 'Date' and 'Country' columns will represent unique combinations of dates and countries from \n",
    "the original DataFrame.\n",
    "The other columns will contain the sum of their respective values for each group.\n",
    "\"\"\""
   ]
  },
  {
   "cell_type": "code",
   "execution_count": 32,
   "id": "f26f54c8",
   "metadata": {},
   "outputs": [],
   "source": [
    "#-------------------------------------------------{9}-------------------------------------------------"
   ]
  },
  {
   "cell_type": "code",
   "execution_count": 33,
   "id": "0cab9dc7",
   "metadata": {},
   "outputs": [],
   "source": [
    "df3[['total_cases', 'total_deaths', 'total_vaccinations']] = df3[['total_cases', 'total_deaths', 'total_vaccinations']].replace('missing_value', 0)"
   ]
  },
  {
   "cell_type": "code",
   "execution_count": 34,
   "id": "bf8adb01",
   "metadata": {
    "scrolled": false
   },
   "outputs": [
    {
     "name": "stdout",
     "output_type": "stream",
     "text": [
      "              Date              Country  total_cases  total_deaths  \\\n",
      "0       2020-01-01            Argentina          0.0           0.0   \n",
      "1       2020-01-01               Mexico          0.0           0.0   \n",
      "2       2020-01-02            Argentina          0.0           0.0   \n",
      "3       2020-01-02               Mexico          0.0           0.0   \n",
      "4       2020-01-03          Afghanistan          0.0           0.0   \n",
      "...            ...                  ...          ...           ...   \n",
      "311359  2023-05-18        South America          0.0           0.0   \n",
      "311360  2023-05-18          South Korea          0.0           0.0   \n",
      "311361  2023-05-18  Upper middle income          0.0           0.0   \n",
      "311362  2023-05-18              Uruguay          0.0           0.0   \n",
      "311363  2023-05-18                World          0.0           0.0   \n",
      "\n",
      "        total_vaccinations  \n",
      "0             0.000000e+00  \n",
      "1             0.000000e+00  \n",
      "2             0.000000e+00  \n",
      "3             0.000000e+00  \n",
      "4             0.000000e+00  \n",
      "...                    ...  \n",
      "311359        9.570209e+08  \n",
      "311360        0.000000e+00  \n",
      "311361        5.415546e+09  \n",
      "311362        9.021046e+06  \n",
      "311363        1.338189e+10  \n",
      "\n",
      "[311364 rows x 5 columns]\n"
     ]
    }
   ],
   "source": [
    "print(df3)"
   ]
  },
  {
   "cell_type": "code",
   "execution_count": 35,
   "id": "14b79433",
   "metadata": {},
   "outputs": [],
   "source": [
    "# here we can see that the 'missing_value' is replaced with '0'"
   ]
  },
  {
   "cell_type": "code",
   "execution_count": 36,
   "id": "1c0d5854",
   "metadata": {},
   "outputs": [],
   "source": [
    "#-------------------------------------------------{10}-------------------------------------------------"
   ]
  },
  {
   "cell_type": "code",
   "execution_count": 37,
   "id": "27d24939",
   "metadata": {
    "scrolled": true
   },
   "outputs": [
    {
     "data": {
      "text/plain": [
       "62922                   World\n",
       "63174                   World\n",
       "63426                   World\n",
       "63678                   World\n",
       "63930                   World\n",
       "                 ...         \n",
       "311253          North America\n",
       "311299          South America\n",
       "311326          United States\n",
       "311328    Upper middle income\n",
       "311337                  World\n",
       "Name: Country, Length: 6770, dtype: object"
      ]
     },
     "execution_count": 37,
     "metadata": {},
     "output_type": "execute_result"
    }
   ],
   "source": [
    "# If we want the names of Total countries with deaths > 1000000 (with doublication):\n",
    "\n",
    "df3.loc[df3['total_deaths'] > 1000000, \"Country\"]"
   ]
  },
  {
   "cell_type": "code",
   "execution_count": 38,
   "id": "8002679b",
   "metadata": {},
   "outputs": [
    {
     "data": {
      "text/plain": [
       "array(['World', 'High income', 'Upper middle income', 'Europe',\n",
       "       'South America', 'Asia', 'Lower middle income', 'North America',\n",
       "       'European Union', 'United States'], dtype=object)"
      ]
     },
     "execution_count": 38,
     "metadata": {},
     "output_type": "execute_result"
    }
   ],
   "source": [
    "# If we want the names of Total countries with deaths > 1000000 (unique):\n",
    "\n",
    "df3.loc[df3['total_deaths'] > 1000000, \"Country\"].unique()"
   ]
  },
  {
   "cell_type": "code",
   "execution_count": 39,
   "id": "b3cdb75b",
   "metadata": {},
   "outputs": [
    {
     "data": {
      "text/plain": [
       "6770"
      ]
     },
     "execution_count": 39,
     "metadata": {},
     "output_type": "execute_result"
    }
   ],
   "source": [
    "# If we want the number of Total countries with deaths > 1000000 (with doublication):\n",
    "\n",
    "df3.loc[df3['total_deaths'] > 1000000, \"Country\"].count()"
   ]
  },
  {
   "cell_type": "code",
   "execution_count": 40,
   "id": "6742cc23",
   "metadata": {},
   "outputs": [
    {
     "data": {
      "text/plain": [
       "10"
      ]
     },
     "execution_count": 40,
     "metadata": {},
     "output_type": "execute_result"
    }
   ],
   "source": [
    "# If we want the number of Total countries with deaths > 1000000 (unique):\n",
    "\n",
    "df3.loc[df3['total_deaths'] > 1000000, \"Country\"].nunique()"
   ]
  },
  {
   "cell_type": "code",
   "execution_count": 41,
   "id": "169271b6",
   "metadata": {},
   "outputs": [],
   "source": [
    "#-------------------------------------------------{11}-------------------------------------------------"
   ]
  },
  {
   "cell_type": "code",
   "execution_count": 42,
   "id": "6c1c119f",
   "metadata": {},
   "outputs": [
    {
     "name": "stdout",
     "output_type": "stream",
     "text": [
      "We have 981 dates in total where total_deaths is greater than 1000000\n"
     ]
    }
   ],
   "source": [
    "# There are some doublicated dates , so to get the number of dates (the unique dates) :\n",
    "\n",
    "number_of_dates = df3.loc[df3['total_deaths'] > 1000000]['Date'].nunique()\n",
    "print(f\"We have {number_of_dates} dates in total where total_deaths is greater than 1000000\")"
   ]
  },
  {
   "cell_type": "code",
   "execution_count": 43,
   "id": "eee1600d",
   "metadata": {},
   "outputs": [
    {
     "name": "stdout",
     "output_type": "stream",
     "text": [
      "We have 6770 dates in total where total_deaths is greater than 1000000\n"
     ]
    }
   ],
   "source": [
    "# If we want the total number (with doublication) :\n",
    "\n",
    "number_of_dates = df3.loc[df3['total_deaths'] > 1000000]['Date'].count()\n",
    "print(f\"We have {number_of_dates} dates in total where total_deaths is greater than 1000000\")"
   ]
  },
  {
   "cell_type": "code",
   "execution_count": null,
   "id": "138ad374",
   "metadata": {},
   "outputs": [],
   "source": []
  }
 ],
 "metadata": {
  "kernelspec": {
   "display_name": "Python 3 (ipykernel)",
   "language": "python",
   "name": "python3"
  },
  "language_info": {
   "codemirror_mode": {
    "name": "ipython",
    "version": 3
   },
   "file_extension": ".py",
   "mimetype": "text/x-python",
   "name": "python",
   "nbconvert_exporter": "python",
   "pygments_lexer": "ipython3",
   "version": "3.10.9"
  }
 },
 "nbformat": 4,
 "nbformat_minor": 5
}
